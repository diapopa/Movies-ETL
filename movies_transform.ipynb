version https://git-lfs.github.com/spec/v1
oid sha256:aa3977eb42be2b7167f9eb2920a3c1dc1ea47b94f3b5d6d1f155e2c9678a7178
size 440919
